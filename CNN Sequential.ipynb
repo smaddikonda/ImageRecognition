{
 "cells": [
  {
   "cell_type": "code",
   "execution_count": 1,
   "metadata": {},
   "outputs": [
    {
     "name": "stderr",
     "output_type": "stream",
     "text": [
      "Using TensorFlow backend.\n"
     ]
    }
   ],
   "source": [
    "from keras import backend as K\n",
    "from keras.models import Model\n",
    "from keras.layers.convolutional import Conv1D\n",
    "from keras.layers import Input, Convolution2D, MaxPooling2D, Dense, Dropout, Flatten\n",
    "from keras.preprocessing.image import ImageDataGenerator, array_to_img, img_to_array, load_img\n",
    "from keras.utils import np_utils\n",
    "import numpy as np\n",
    "import json\n",
    "import pandas as pd\n",
    "import matplotlib.pyplot as plt\n",
    "%matplotlib inline"
   ]
  },
  {
   "cell_type": "code",
   "execution_count": 3,
   "metadata": {},
   "outputs": [],
   "source": [
    "#load training data\n",
    "train = json.load(open('../data/train.json'))"
   ]
  },
  {
   "cell_type": "code",
   "execution_count": 4,
   "metadata": {},
   "outputs": [],
   "source": [
    "#load test data\n",
    "test = json.load(open('../data/test.json'))"
   ]
  },
  {
   "cell_type": "markdown",
   "metadata": {},
   "source": [
    "## Pre-Processs"
   ]
  },
  {
   "cell_type": "code",
   "execution_count": 5,
   "metadata": {},
   "outputs": [],
   "source": [
    "def normalize(X1):\n",
    "    '''normalizes to 0 to 1 scale'''\n",
    "    norm = ((X1-X1.min())/(X1.max()-X1.min()))\n",
    "    return norm\n",
    "\n",
    "def preprocess(data):\n",
    "    '''\n",
    "    preprocesses the data and returns two list of processed data, \n",
    "    one normalized on 0 to 1 scale, dual channel picture, 75x75x2\n",
    "    one normalized to power ratio, and combined, single channel picture, 75x75x1\n",
    "    '''\n",
    "    #make empty list for dataset normalized from 0 to 1\n",
    "    X_data_scale = list()\n",
    "\n",
    "    #make empty list for dataset normalized by power ratio\n",
    "    X_data_power = list()\n",
    "\n",
    "    #itterate over each element of the data\n",
    "    for i in range(len(data)):\n",
    "        #get elements of entry\n",
    "        id = (data[i]['id'])\n",
    "        B1 = np.reshape(data[i]['band_1'], (75,75))\n",
    "        B2 = np.reshape(data[i]['band_2'], (75,75))\n",
    "        \n",
    "        #normalize to 0 to 1 range\n",
    "        B1_norm = normalize(B1)\n",
    "        B11_norm = normalize(B1)\n",
    "        B2_norm = normalize(B2)\n",
    "        norm_merge = np.dstack((B1_norm, B11_norm, B2_norm))\n",
    "        \n",
    "        #transform to power\n",
    "        B1_power = np.power(10, np.divide(B1, 20))\n",
    "        B2_power = np.power(10, np.divide(B2, 20))\n",
    "        #power_merge = normalize(np.multiply(10,np.log10(np.add(np.power(10,np.divide(B1_power,10)),np.power(10,np.divide(B2_power,10))))))\n",
    "        power_merge = np.dstack((B1_power,B2_power))\n",
    "\n",
    "        #df.append({'id':id, 'image':norm_merge})\n",
    "        #dp.append({'id':id, 'image':power_merge})\n",
    "        X_data_scale.append(norm_merge)\n",
    "        X_data_power.append(power_merge)\n",
    "        \n",
    "    return np.array(X_data_scale), np.array(X_data_power)\n",
    "\n",
    "def get_classification(data):\n",
    "    '''retrieves classification for each image in testing dataset'''\n",
    "    y_data = list()\n",
    "    for i in range(len(data)):\n",
    "        #id = (data[i]['id'])\n",
    "        classification = (data[i]['is_iceberg'])\n",
    "        #target.append({'id':id, 'is_iceberg':classification})\n",
    "        y_data.append([classification])\n",
    "    return(np.array(y_data))\n",
    "\n",
    "def get_id(data):\n",
    "    '''retrieves classification for each image in testing dataset'''\n",
    "    id = list()\n",
    "    for i in range(len(data)):\n",
    "        sample = (data[i]['id'])\n",
    "        id.append([sample])\n",
    "    return(np.array(id))\n",
    "\n",
    "def get_angle(data):\n",
    "    '''retrieves classification for each image in testing dataset'''\n",
    "    angle = list()\n",
    "    for i in range(len(data)):\n",
    "        sample = (data[i]['inc_angle'])\n",
    "        angle.append(sample)\n",
    "    return(angle)"
   ]
  },
  {
   "cell_type": "code",
   "execution_count": 6,
   "metadata": {},
   "outputs": [],
   "source": [
    "#preprocess training dataset\n",
    "X_train_scale, X_train_power = preprocess(train)\n",
    "y_train = get_classification(train)\n",
    "train_id = get_id(train)"
   ]
  },
  {
   "cell_type": "code",
   "execution_count": 7,
   "metadata": {},
   "outputs": [],
   "source": [
    "#preprocess testing dataset\n",
    "X_test_scale, X_test_power = preprocess(test)\n",
    "test_id = get_id(test)"
   ]
  },
  {
   "cell_type": "code",
   "execution_count": null,
   "metadata": {},
   "outputs": [],
   "source": []
  },
  {
   "cell_type": "markdown",
   "metadata": {},
   "source": [
    "## Test Train Split"
   ]
  },
  {
   "cell_type": "code",
   "execution_count": 8,
   "metadata": {},
   "outputs": [],
   "source": [
    "#split training & testing set\n",
    "from sklearn.model_selection import train_test_split\n",
    "X_train_d_scale, X_test_d_scale, y_train_d_scale, y_test_d_scale = train_test_split(X_train_scale, y_train, test_size=0.2, random_state=0)"
   ]
  },
  {
   "cell_type": "code",
   "execution_count": null,
   "metadata": {},
   "outputs": [],
   "source": []
  },
  {
   "cell_type": "markdown",
   "metadata": {},
   "source": [
    "# Model"
   ]
  },
  {
   "cell_type": "code",
   "execution_count": 9,
   "metadata": {},
   "outputs": [],
   "source": [
    "#hyperparameters\n",
    "batch_size = 16 #number of training examples to consider at once\n",
    "num_epochs = 100 #itterate n times over training set\n",
    "kernal_size = 3 #3x3 kernal\n",
    "pool_size = 2 #2x2 pooling\n",
    "conv_depth_1 = 32 # first layer 32 kernals\n",
    "conv_depth_2 = 32 # first layer 32 kernals\n",
    "conv_depth_3 = 64 # second layer 64 kernals\n",
    "dense_1 = 64\n",
    "dense_2 = 1\n",
    "drop_out = 0.5 #drop out probability\n",
    "hidden_size = 512 #number of neurons in fully-connected layer"
   ]
  },
  {
   "cell_type": "code",
   "execution_count": 10,
   "metadata": {},
   "outputs": [],
   "source": [
    "from keras.models import Sequential\n",
    "from keras.layers import Conv2D, MaxPooling2D\n",
    "from keras.layers import Activation, Dropout, Flatten, Dense\n",
    "\n",
    "model = Sequential()\n",
    "model.add(Conv2D(conv_depth_1, (kernal_size, kernal_size), input_shape=(75,75,3)))\n",
    "model.add(Activation('relu'))\n",
    "model.add(MaxPooling2D(pool_size=(pool_size, pool_size)))\n",
    "\n",
    "model.add(Conv2D(conv_depth_2, (kernal_size, kernal_size)))\n",
    "model.add(Activation('relu'))\n",
    "model.add(MaxPooling2D(pool_size=(pool_size, pool_size)))\n",
    "\n",
    "model.add(Conv2D(conv_depth_3, (kernal_size, kernal_size)))\n",
    "model.add(Activation('relu'))\n",
    "model.add(MaxPooling2D(pool_size=(pool_size, pool_size)))\n",
    "\n",
    "model.add(Flatten())  # this converts our 3D feature maps to 1D feature vectors\n",
    "model.add(Dense(dense_1))\n",
    "model.add(Activation('relu'))\n",
    "model.add(Dropout(drop_out))\n",
    "model.add(Dense(dense_2))\n",
    "model.add(Activation('sigmoid'))\n",
    "\n",
    "model.compile(loss='binary_crossentropy',\n",
    "              optimizer='rmsprop',\n",
    "              metrics=['accuracy'])"
   ]
  },
  {
   "cell_type": "code",
   "execution_count": 11,
   "metadata": {},
   "outputs": [],
   "source": [
    "train_datagen = ImageDataGenerator(\n",
    "        shear_range=0.2,\n",
    "        zoom_range=0.2,\n",
    "        horizontal_flip=True)"
   ]
  },
  {
   "cell_type": "code",
   "execution_count": 12,
   "metadata": {},
   "outputs": [],
   "source": [
    "train_generator = train_datagen.flow(\n",
    "        X_train_d_scale, y_train_d_scale,  # this is the target directory\n",
    "        batch_size=batch_size)"
   ]
  },
  {
   "cell_type": "code",
   "execution_count": 13,
   "metadata": {},
   "outputs": [
    {
     "name": "stdout",
     "output_type": "stream",
     "text": [
      "Epoch 1/100\n",
      "125/125 [==============================] - 39s 312ms/step - loss: 0.6797 - acc: 0.5962 - val_loss: 0.6443 - val_acc: 0.6791\n",
      "Epoch 2/100\n",
      "125/125 [==============================] - 31s 244ms/step - loss: 0.6015 - acc: 0.6642 - val_loss: 0.5760 - val_acc: 0.7259\n",
      "Epoch 3/100\n",
      "125/125 [==============================] - 30s 241ms/step - loss: 0.5322 - acc: 0.7248 - val_loss: 0.4841 - val_acc: 0.7726\n",
      "Epoch 4/100\n",
      "125/125 [==============================] - 30s 237ms/step - loss: 0.4896 - acc: 0.7718 - val_loss: 0.5406 - val_acc: 0.7632\n",
      "Epoch 5/100\n",
      "125/125 [==============================] - 27s 213ms/step - loss: 0.4622 - acc: 0.7813 - val_loss: 0.4121 - val_acc: 0.8255\n",
      "Epoch 6/100\n",
      "125/125 [==============================] - 27s 215ms/step - loss: 0.4488 - acc: 0.8133 - val_loss: 0.4279 - val_acc: 0.8255\n",
      "Epoch 7/100\n",
      "125/125 [==============================] - 28s 226ms/step - loss: 0.4258 - acc: 0.8075 - val_loss: 0.4958 - val_acc: 0.7508\n",
      "Epoch 8/100\n",
      "125/125 [==============================] - 27s 215ms/step - loss: 0.3936 - acc: 0.8198 - val_loss: 0.4169 - val_acc: 0.8287\n",
      "Epoch 9/100\n",
      "125/125 [==============================] - 28s 223ms/step - loss: 0.4014 - acc: 0.8295 - val_loss: 0.3813 - val_acc: 0.8411\n",
      "Epoch 10/100\n",
      "125/125 [==============================] - 28s 226ms/step - loss: 0.3896 - acc: 0.8242 - val_loss: 0.4076 - val_acc: 0.8162\n",
      "Epoch 11/100\n",
      "125/125 [==============================] - 28s 226ms/step - loss: 0.3677 - acc: 0.8358 - val_loss: 0.4072 - val_acc: 0.8349\n",
      "Epoch 12/100\n",
      "125/125 [==============================] - 29s 231ms/step - loss: 0.3502 - acc: 0.8463 - val_loss: 0.3455 - val_acc: 0.8100\n",
      "Epoch 13/100\n",
      "125/125 [==============================] - 28s 223ms/step - loss: 0.3512 - acc: 0.8482 - val_loss: 0.3105 - val_acc: 0.8785\n",
      "Epoch 14/100\n",
      "125/125 [==============================] - 28s 221ms/step - loss: 0.3367 - acc: 0.8512 - val_loss: 0.3722 - val_acc: 0.8380\n",
      "Epoch 15/100\n",
      "125/125 [==============================] - 27s 217ms/step - loss: 0.3124 - acc: 0.8545 - val_loss: 0.2843 - val_acc: 0.8723\n",
      "Epoch 16/100\n",
      "125/125 [==============================] - 28s 222ms/step - loss: 0.3251 - acc: 0.8448 - val_loss: 0.3848 - val_acc: 0.8536\n",
      "Epoch 17/100\n",
      "125/125 [==============================] - 28s 224ms/step - loss: 0.3042 - acc: 0.8608 - val_loss: 0.2992 - val_acc: 0.8660\n",
      "Epoch 18/100\n",
      "125/125 [==============================] - 20s 157ms/step - loss: 0.3187 - acc: 0.8525 - val_loss: 1.0163 - val_acc: 0.6542\n",
      "Epoch 19/100\n",
      "125/125 [==============================] - 19s 155ms/step - loss: 0.2949 - acc: 0.8605 - val_loss: 0.3717 - val_acc: 0.8536\n",
      "Epoch 20/100\n",
      "125/125 [==============================] - 19s 154ms/step - loss: 0.3101 - acc: 0.8630 - val_loss: 0.3025 - val_acc: 0.8723\n",
      "Epoch 21/100\n",
      "125/125 [==============================] - 21s 165ms/step - loss: 0.3015 - acc: 0.8660 - val_loss: 0.3178 - val_acc: 0.8349\n",
      "Epoch 22/100\n",
      "125/125 [==============================] - 19s 154ms/step - loss: 0.2930 - acc: 0.8668 - val_loss: 0.2943 - val_acc: 0.8847\n",
      "Epoch 23/100\n",
      "125/125 [==============================] - 19s 154ms/step - loss: 0.2932 - acc: 0.8707 - val_loss: 0.2797 - val_acc: 0.8847\n",
      "Epoch 24/100\n",
      "125/125 [==============================] - 19s 154ms/step - loss: 0.2776 - acc: 0.8725 - val_loss: 0.2773 - val_acc: 0.8660\n",
      "Epoch 25/100\n",
      "125/125 [==============================] - 19s 154ms/step - loss: 0.2934 - acc: 0.8692 - val_loss: 0.2870 - val_acc: 0.8692\n",
      "Epoch 26/100\n",
      "125/125 [==============================] - 19s 154ms/step - loss: 0.2579 - acc: 0.8910 - val_loss: 0.3329 - val_acc: 0.8723\n",
      "Epoch 27/100\n",
      "125/125 [==============================] - 19s 155ms/step - loss: 0.2759 - acc: 0.8762 - val_loss: 0.3304 - val_acc: 0.8318\n",
      "Epoch 28/100\n",
      "125/125 [==============================] - 19s 154ms/step - loss: 0.2573 - acc: 0.8955 - val_loss: 0.3420 - val_acc: 0.8816\n",
      "Epoch 29/100\n",
      "125/125 [==============================] - 19s 153ms/step - loss: 0.2635 - acc: 0.8838 - val_loss: 0.2808 - val_acc: 0.8847\n",
      "Epoch 30/100\n",
      "125/125 [==============================] - 20s 156ms/step - loss: 0.2770 - acc: 0.8915 - val_loss: 0.3303 - val_acc: 0.8224\n",
      "Epoch 31/100\n",
      "125/125 [==============================] - 19s 153ms/step - loss: 0.2391 - acc: 0.8960 - val_loss: 0.2872 - val_acc: 0.8754\n",
      "Epoch 32/100\n",
      "125/125 [==============================] - 19s 153ms/step - loss: 0.2521 - acc: 0.9005 - val_loss: 0.3536 - val_acc: 0.8287\n",
      "Epoch 33/100\n",
      "125/125 [==============================] - 19s 153ms/step - loss: 0.2437 - acc: 0.8922 - val_loss: 0.3191 - val_acc: 0.8660\n",
      "Epoch 34/100\n",
      "125/125 [==============================] - 19s 154ms/step - loss: 0.2491 - acc: 0.8872 - val_loss: 0.3179 - val_acc: 0.8598\n",
      "Epoch 35/100\n",
      "125/125 [==============================] - 19s 153ms/step - loss: 0.2477 - acc: 0.8948 - val_loss: 0.3817 - val_acc: 0.8505\n",
      "Epoch 36/100\n",
      "125/125 [==============================] - 19s 153ms/step - loss: 0.2354 - acc: 0.9000 - val_loss: 0.3651 - val_acc: 0.8941\n",
      "Epoch 37/100\n",
      "125/125 [==============================] - 19s 154ms/step - loss: 0.2371 - acc: 0.8988 - val_loss: 0.4885 - val_acc: 0.8255\n",
      "Epoch 38/100\n",
      "125/125 [==============================] - 19s 156ms/step - loss: 0.2408 - acc: 0.8990 - val_loss: 0.4719 - val_acc: 0.8567\n",
      "Epoch 39/100\n",
      "125/125 [==============================] - 19s 154ms/step - loss: 0.2430 - acc: 0.8920 - val_loss: 0.4336 - val_acc: 0.8567\n",
      "Epoch 40/100\n",
      "125/125 [==============================] - 19s 154ms/step - loss: 0.2627 - acc: 0.8918 - val_loss: 0.2971 - val_acc: 0.8879\n",
      "Epoch 41/100\n",
      "125/125 [==============================] - 19s 154ms/step - loss: 0.2397 - acc: 0.9010 - val_loss: 0.3064 - val_acc: 0.8754\n",
      "Epoch 42/100\n",
      "125/125 [==============================] - 19s 155ms/step - loss: 0.2351 - acc: 0.9068 - val_loss: 0.3196 - val_acc: 0.8941\n",
      "Epoch 43/100\n",
      "125/125 [==============================] - 19s 154ms/step - loss: 0.2438 - acc: 0.9020 - val_loss: 0.3407 - val_acc: 0.8692\n",
      "Epoch 44/100\n",
      "125/125 [==============================] - 19s 154ms/step - loss: 0.2443 - acc: 0.9065 - val_loss: 0.3534 - val_acc: 0.8816\n",
      "Epoch 45/100\n",
      "125/125 [==============================] - 20s 157ms/step - loss: 0.2387 - acc: 0.9105 - val_loss: 0.2709 - val_acc: 0.8910\n",
      "Epoch 46/100\n",
      "125/125 [==============================] - 19s 156ms/step - loss: 0.2104 - acc: 0.9103 - val_loss: 0.4614 - val_acc: 0.8505\n",
      "Epoch 47/100\n",
      "125/125 [==============================] - 20s 159ms/step - loss: 0.2274 - acc: 0.9040 - val_loss: 0.3582 - val_acc: 0.8754\n",
      "Epoch 48/100\n",
      "125/125 [==============================] - 20s 156ms/step - loss: 0.2249 - acc: 0.9093 - val_loss: 0.5025 - val_acc: 0.8536\n",
      "Epoch 49/100\n",
      "125/125 [==============================] - 20s 157ms/step - loss: 0.2244 - acc: 0.9075 - val_loss: 0.2554 - val_acc: 0.8816\n",
      "Epoch 50/100\n",
      "125/125 [==============================] - 20s 158ms/step - loss: 0.2297 - acc: 0.9160 - val_loss: 0.3802 - val_acc: 0.8567\n",
      "Epoch 51/100\n",
      "125/125 [==============================] - 20s 156ms/step - loss: 0.2039 - acc: 0.9213 - val_loss: 0.4171 - val_acc: 0.8785\n",
      "Epoch 52/100\n",
      "125/125 [==============================] - 20s 157ms/step - loss: 0.2184 - acc: 0.9190 - val_loss: 0.4439 - val_acc: 0.8442\n",
      "Epoch 53/100\n",
      "125/125 [==============================] - 20s 158ms/step - loss: 0.2103 - acc: 0.9168 - val_loss: 0.3505 - val_acc: 0.8754\n",
      "Epoch 54/100\n",
      "125/125 [==============================] - 19s 155ms/step - loss: 0.2013 - acc: 0.9250 - val_loss: 0.3443 - val_acc: 0.8692\n",
      "Epoch 55/100\n",
      "125/125 [==============================] - 20s 159ms/step - loss: 0.2164 - acc: 0.9140 - val_loss: 0.3422 - val_acc: 0.8785\n",
      "Epoch 56/100\n",
      "125/125 [==============================] - 20s 160ms/step - loss: 0.1943 - acc: 0.9265 - val_loss: 0.5042 - val_acc: 0.8536\n",
      "Epoch 57/100\n",
      "125/125 [==============================] - 20s 157ms/step - loss: 0.2385 - acc: 0.9133 - val_loss: 0.2793 - val_acc: 0.8847\n",
      "Epoch 58/100\n",
      "125/125 [==============================] - 22s 173ms/step - loss: 0.2036 - acc: 0.9207 - val_loss: 0.3563 - val_acc: 0.8660\n",
      "Epoch 59/100\n",
      "125/125 [==============================] - 21s 165ms/step - loss: 0.2019 - acc: 0.9140 - val_loss: 0.4045 - val_acc: 0.8785\n",
      "Epoch 60/100\n",
      "125/125 [==============================] - 21s 167ms/step - loss: 0.2317 - acc: 0.9290 - val_loss: 0.3716 - val_acc: 0.8847\n"
     ]
    },
    {
     "name": "stdout",
     "output_type": "stream",
     "text": [
      "Epoch 61/100\n",
      "125/125 [==============================] - 19s 151ms/step - loss: 0.1969 - acc: 0.9305 - val_loss: 0.4046 - val_acc: 0.8754\n",
      "Epoch 62/100\n",
      "125/125 [==============================] - 20s 157ms/step - loss: 0.2117 - acc: 0.9155 - val_loss: 0.3441 - val_acc: 0.8816\n",
      "Epoch 63/100\n",
      "125/125 [==============================] - 19s 150ms/step - loss: 0.2159 - acc: 0.9208 - val_loss: 0.5623 - val_acc: 0.8567\n",
      "Epoch 64/100\n",
      "125/125 [==============================] - 19s 152ms/step - loss: 0.2183 - acc: 0.9265 - val_loss: 0.6461 - val_acc: 0.8474\n",
      "Epoch 65/100\n",
      "125/125 [==============================] - 20s 162ms/step - loss: 0.2499 - acc: 0.9050 - val_loss: 0.4277 - val_acc: 0.8567\n",
      "Epoch 66/100\n",
      "125/125 [==============================] - 20s 160ms/step - loss: 0.1981 - acc: 0.9175 - val_loss: 0.3778 - val_acc: 0.8598\n",
      "Epoch 67/100\n",
      "125/125 [==============================] - 20s 158ms/step - loss: 0.1939 - acc: 0.9328 - val_loss: 0.4815 - val_acc: 0.8505\n",
      "Epoch 68/100\n",
      "125/125 [==============================] - 20s 157ms/step - loss: 0.2137 - acc: 0.9140 - val_loss: 0.2944 - val_acc: 0.8941\n",
      "Epoch 69/100\n",
      "125/125 [==============================] - 20s 161ms/step - loss: 0.1832 - acc: 0.9225 - val_loss: 0.3999 - val_acc: 0.8567\n",
      "Epoch 70/100\n",
      "125/125 [==============================] - 20s 158ms/step - loss: 0.1906 - acc: 0.9173 - val_loss: 0.3764 - val_acc: 0.8692\n",
      "Epoch 71/100\n",
      "125/125 [==============================] - 20s 159ms/step - loss: 0.1960 - acc: 0.9232 - val_loss: 0.4602 - val_acc: 0.8816\n",
      "Epoch 72/100\n",
      "125/125 [==============================] - 21s 167ms/step - loss: 0.1932 - acc: 0.9240 - val_loss: 0.6760 - val_acc: 0.8567\n",
      "Epoch 73/100\n",
      "125/125 [==============================] - 21s 169ms/step - loss: 0.2012 - acc: 0.9253 - val_loss: 0.4687 - val_acc: 0.8629\n",
      "Epoch 74/100\n",
      "125/125 [==============================] - 21s 169ms/step - loss: 0.2217 - acc: 0.9238 - val_loss: 0.5336 - val_acc: 0.8785\n",
      "Epoch 75/100\n",
      "125/125 [==============================] - 23s 181ms/step - loss: 0.2134 - acc: 0.9127 - val_loss: 0.3038 - val_acc: 0.8536\n",
      "Epoch 76/100\n",
      "125/125 [==============================] - 21s 171ms/step - loss: 0.1910 - acc: 0.9245 - val_loss: 0.5159 - val_acc: 0.8660\n",
      "Epoch 77/100\n",
      "125/125 [==============================] - 20s 162ms/step - loss: 0.1814 - acc: 0.9295 - val_loss: 0.4494 - val_acc: 0.8598\n",
      "Epoch 78/100\n",
      "125/125 [==============================] - 20s 160ms/step - loss: 0.2008 - acc: 0.9215 - val_loss: 0.4081 - val_acc: 0.8692\n",
      "Epoch 79/100\n",
      "125/125 [==============================] - 20s 160ms/step - loss: 0.1834 - acc: 0.9348 - val_loss: 0.4600 - val_acc: 0.8660\n",
      "Epoch 80/100\n",
      "125/125 [==============================] - 20s 164ms/step - loss: 0.1794 - acc: 0.9338 - val_loss: 0.5048 - val_acc: 0.8754\n",
      "Epoch 81/100\n",
      "125/125 [==============================] - 21s 167ms/step - loss: 0.1851 - acc: 0.9295 - val_loss: 0.4743 - val_acc: 0.8629\n",
      "Epoch 82/100\n",
      "125/125 [==============================] - 21s 167ms/step - loss: 0.2308 - acc: 0.9245 - val_loss: 0.3790 - val_acc: 0.8847\n",
      "Epoch 83/100\n",
      "125/125 [==============================] - 20s 163ms/step - loss: 0.1956 - acc: 0.9237 - val_loss: 0.4708 - val_acc: 0.8567\n",
      "Epoch 84/100\n",
      "125/125 [==============================] - 20s 162ms/step - loss: 0.1932 - acc: 0.9338 - val_loss: 0.4271 - val_acc: 0.8629\n",
      "Epoch 85/100\n",
      "125/125 [==============================] - 20s 163ms/step - loss: 0.1967 - acc: 0.9300 - val_loss: 0.3849 - val_acc: 0.8692\n",
      "Epoch 86/100\n",
      "125/125 [==============================] - 21s 164ms/step - loss: 0.2084 - acc: 0.9130 - val_loss: 0.3657 - val_acc: 0.8941\n",
      "Epoch 87/100\n",
      "125/125 [==============================] - 21s 167ms/step - loss: 0.1851 - acc: 0.9308 - val_loss: 0.4016 - val_acc: 0.8847\n",
      "Epoch 88/100\n",
      "125/125 [==============================] - 21s 165ms/step - loss: 0.2108 - acc: 0.9295 - val_loss: 0.3966 - val_acc: 0.8723\n",
      "Epoch 89/100\n",
      "125/125 [==============================] - 20s 158ms/step - loss: 0.1914 - acc: 0.9250 - val_loss: 0.3926 - val_acc: 0.8816\n",
      "Epoch 90/100\n",
      "125/125 [==============================] - 20s 157ms/step - loss: 0.1656 - acc: 0.9320 - val_loss: 0.3663 - val_acc: 0.8567\n",
      "Epoch 91/100\n",
      "125/125 [==============================] - 19s 152ms/step - loss: 0.1953 - acc: 0.9285 - val_loss: 0.3763 - val_acc: 0.8567\n",
      "Epoch 92/100\n",
      "125/125 [==============================] - 19s 155ms/step - loss: 0.1592 - acc: 0.9440 - val_loss: 0.4685 - val_acc: 0.8879\n",
      "Epoch 93/100\n",
      "125/125 [==============================] - 19s 152ms/step - loss: 0.2291 - acc: 0.9343 - val_loss: 0.5267 - val_acc: 0.8629\n",
      "Epoch 94/100\n",
      "125/125 [==============================] - 19s 154ms/step - loss: 0.1769 - acc: 0.9353 - val_loss: 0.5358 - val_acc: 0.8692\n",
      "Epoch 95/100\n",
      "125/125 [==============================] - 19s 154ms/step - loss: 0.2129 - acc: 0.9255 - val_loss: 0.5628 - val_acc: 0.8629\n",
      "Epoch 96/100\n",
      "125/125 [==============================] - 19s 154ms/step - loss: 0.1958 - acc: 0.9320 - val_loss: 0.4998 - val_acc: 0.8723\n",
      "Epoch 97/100\n",
      "125/125 [==============================] - 19s 155ms/step - loss: 0.1807 - acc: 0.9355 - val_loss: 0.5773 - val_acc: 0.8567\n",
      "Epoch 98/100\n",
      "125/125 [==============================] - 19s 153ms/step - loss: 0.1775 - acc: 0.9290 - val_loss: 0.3756 - val_acc: 0.8692\n",
      "Epoch 99/100\n",
      "125/125 [==============================] - 19s 154ms/step - loss: 0.1853 - acc: 0.9265 - val_loss: 0.3859 - val_acc: 0.8598\n",
      "Epoch 100/100\n",
      "125/125 [==============================] - 20s 156ms/step - loss: 0.2167 - acc: 0.9255 - val_loss: 0.3664 - val_acc: 0.8692\n"
     ]
    }
   ],
   "source": [
    "history = model.fit_generator(\n",
    "        train_generator,\n",
    "        steps_per_epoch=2000 // batch_size,\n",
    "        epochs=num_epochs,\n",
    "        validation_data=(X_test_d_scale,y_test_d_scale),\n",
    "        validation_steps=800 // batch_size)"
   ]
  },
  {
   "cell_type": "code",
   "execution_count": 17,
   "metadata": {},
   "outputs": [
    {
     "name": "stdout",
     "output_type": "stream",
     "text": [
      "_________________________________________________________________\n",
      "Layer (type)                 Output Shape              Param #   \n",
      "=================================================================\n",
      "conv2d_1 (Conv2D)            (None, 73, 73, 32)        896       \n",
      "_________________________________________________________________\n",
      "activation_1 (Activation)    (None, 73, 73, 32)        0         \n",
      "_________________________________________________________________\n",
      "max_pooling2d_1 (MaxPooling2 (None, 36, 36, 32)        0         \n",
      "_________________________________________________________________\n",
      "conv2d_2 (Conv2D)            (None, 34, 34, 32)        9248      \n",
      "_________________________________________________________________\n",
      "activation_2 (Activation)    (None, 34, 34, 32)        0         \n",
      "_________________________________________________________________\n",
      "max_pooling2d_2 (MaxPooling2 (None, 17, 17, 32)        0         \n",
      "_________________________________________________________________\n",
      "conv2d_3 (Conv2D)            (None, 15, 15, 64)        18496     \n",
      "_________________________________________________________________\n",
      "activation_3 (Activation)    (None, 15, 15, 64)        0         \n",
      "_________________________________________________________________\n",
      "max_pooling2d_3 (MaxPooling2 (None, 7, 7, 64)          0         \n",
      "_________________________________________________________________\n",
      "flatten_1 (Flatten)          (None, 3136)              0         \n",
      "_________________________________________________________________\n",
      "dense_1 (Dense)              (None, 64)                200768    \n",
      "_________________________________________________________________\n",
      "activation_4 (Activation)    (None, 64)                0         \n",
      "_________________________________________________________________\n",
      "dropout_1 (Dropout)          (None, 64)                0         \n",
      "_________________________________________________________________\n",
      "dense_2 (Dense)              (None, 1)                 65        \n",
      "_________________________________________________________________\n",
      "activation_5 (Activation)    (None, 1)                 0         \n",
      "=================================================================\n",
      "Total params: 229,473\n",
      "Trainable params: 229,473\n",
      "Non-trainable params: 0\n",
      "_________________________________________________________________\n"
     ]
    }
   ],
   "source": [
    "model.summary()"
   ]
  },
  {
   "cell_type": "markdown",
   "metadata": {},
   "source": [
    "## Persist the model to the local FS"
   ]
  },
  {
   "cell_type": "code",
   "execution_count": 15,
   "metadata": {},
   "outputs": [],
   "source": [
    "model.save_weights('saved_weights.h5')\n",
    "# serialize model to JSON\n",
    "model_json = model.to_json()\n",
    "with open(\"model.json\", \"w\") as json_file:\n",
    "    json_file.write(model_json)"
   ]
  },
  {
   "cell_type": "code",
   "execution_count": 16,
   "metadata": {},
   "outputs": [],
   "source": [
    "import pickle\n",
    "with open('trainHistoryDict', 'wb') as file_pi:\n",
    "    pickle.dump(history.history, file_pi)"
   ]
  },
  {
   "cell_type": "code",
   "execution_count": null,
   "metadata": {},
   "outputs": [],
   "source": []
  },
  {
   "cell_type": "code",
   "execution_count": 18,
   "metadata": {},
   "outputs": [
    {
     "data": {
      "image/png": "[encoded data removed]",
      "text/plain": [
       "<matplotlib.figure.Figure at 0x29bb5191518>"
      ]
     },
     "metadata": {},
     "output_type": "display_data"
    },
    {
     "data": {
      "image/png": "[encoded data removed]",
      "text/plain": [
       "<matplotlib.figure.Figure at 0x29bb554cef0>"
      ]
     },
     "metadata": {},
     "output_type": "display_data"
    }
   ],
   "source": [
    "# summarize history for accuracy\n",
    "plt.plot(history.history['acc'])\n",
    "plt.plot(history.history['val_acc'])\n",
    "plt.title('model accuracy')\n",
    "plt.ylabel('accuracy')\n",
    "plt.xlabel('epoch')\n",
    "plt.legend(['train', 'test'], loc='upper left')\n",
    "plt.show()\n",
    "# summarize history for loss\n",
    "plt.plot(history.history['loss'])\n",
    "plt.plot(history.history['val_loss'])\n",
    "plt.title('model loss')\n",
    "plt.ylabel('loss')\n",
    "plt.xlabel('epoch')\n",
    "plt.legend(['train', 'test'], loc='upper left')\n",
    "plt.show()"
   ]
  },
  {
   "cell_type": "code",
   "execution_count": 19,
   "metadata": {},
   "outputs": [
    {
     "name": "stdout",
     "output_type": "stream",
     "text": [
      "8424/8424 [==============================] - 196s 23ms/step\n"
     ]
    }
   ],
   "source": [
    "dd=model.predict(X_test_scale,batch_size=batch_size,verbose=1)"
   ]
  },
  {
   "cell_type": "code",
   "execution_count": 20,
   "metadata": {},
   "outputs": [],
   "source": [
    "model_results = pd.DataFrame()\n",
    "\n",
    "for i in range(len(test_id)):\n",
    "    model_results = model_results.append({'id': test_id[i][0], 'is_iceberg' :dd[i][0]}, ignore_index=True)\n",
    "\n",
    "model_results.to_csv(\"model_results.csv\",index=False)"
   ]
  },
  {
   "cell_type": "code",
   "execution_count": null,
   "metadata": {},
   "outputs": [],
   "source": []
  },
  {
   "cell_type": "code",
   "execution_count": null,
   "metadata": {},
   "outputs": [],
   "source": []
  },
  {
   "cell_type": "markdown",
   "metadata": {},
   "source": [
    "## Loaded Model from FS"
   ]
  },
  {
   "cell_type": "code",
   "execution_count": 21,
   "metadata": {},
   "outputs": [
    {
     "name": "stdout",
     "output_type": "stream",
     "text": [
      "Loaded model from disk\n"
     ]
    }
   ],
   "source": [
    "from keras.models import model_from_json\n",
    "# load json and create model\n",
    "json_file = open('model.json', 'r')\n",
    "loaded_model_json = json_file.read()\n",
    "json_file.close()\n",
    "loaded_model = model_from_json(loaded_model_json)\n",
    "# load weights into new model\n",
    "loaded_model.load_weights(\"saved_weights.h5\")\n",
    "print(\"Loaded model from disk\")"
   ]
  },
  {
   "cell_type": "code",
   "execution_count": 25,
   "metadata": {},
   "outputs": [
    {
     "name": "stdout",
     "output_type": "stream",
     "text": [
      "8424/8424 [==============================] - 31s 4ms/step\n"
     ]
    }
   ],
   "source": [
    "dd2=loaded_model.predict(X_test_scale,batch_size=batch_size,verbose=1)"
   ]
  },
  {
   "cell_type": "code",
   "execution_count": 26,
   "metadata": {},
   "outputs": [],
   "source": [
    "loaded_results = pd.DataFrame()\n",
    "for i in range(len(test_id)):\n",
    "    loaded_results = loaded_results.append({'id': test_id[i][0], 'is_iceberg' :dd2[i][0]}, ignore_index=True)\n",
    "\n",
    "loaded_results.to_csv(\"loadedmodelresults.csv\",index=False)"
   ]
  },
  {
   "cell_type": "code",
   "execution_count": null,
   "metadata": {},
   "outputs": [],
   "source": []
  }
 ],
 "metadata": {
  "kernelspec": {
   "display_name": "Python 3",
   "language": "python",
   "name": "python3"
  },
  "language_info": {
   "codemirror_mode": {
    "name": "ipython",
    "version": 3
   },
   "file_extension": ".py",
   "mimetype": "text/x-python",
   "name": "python",
   "nbconvert_exporter": "python",
   "pygments_lexer": "ipython3",
   "version": "3.5.4"
  }
 },
 "nbformat": 4,
 "nbformat_minor": 2
}
